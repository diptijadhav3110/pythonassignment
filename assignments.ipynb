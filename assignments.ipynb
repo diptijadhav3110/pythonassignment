{
 "cells": [
  {
   "cell_type": "code",
   "execution_count": 3,
   "metadata": {},
   "outputs": [
    {
     "name": "stdout",
     "output_type": "stream",
     "text": [
      "largest no is: 56\n"
     ]
    }
   ],
   "source": [
    "#largest no in the list\n",
    "\n",
    "abc=[11, 34,56,54,23,45]\n",
    "\n",
    "print(\"largest no is:\", max(lis))"
   ]
  },
  {
   "cell_type": "code",
   "execution_count": 1,
   "metadata": {},
   "outputs": [
    {
     "name": "stdout",
     "output_type": "stream",
     "text": [
      "second largest no is: 54\n"
     ]
    }
   ],
   "source": [
    "#second largest no in the list\n",
    "\n",
    "abc=[11,34,56,54,23,45]\n",
    "\n",
    "abc.sort();\n",
    "\n",
    "print(\"second largest no is:\" ,abc[-2])"
   ]
  },
  {
   "cell_type": "code",
   "execution_count": 3,
   "metadata": {},
   "outputs": [
    {
     "name": "stdout",
     "output_type": "stream",
     "text": [
      "[8, 11, 12, 22, 23, 34, 45, 54, 56, 67, 89, 90]\n"
     ]
    }
   ],
   "source": [
    "#merge two list and sort it\n",
    "\n",
    "abc=[11,34,56,54,23,45]\n",
    "xyz=[22,67,12,8,89,90]\n",
    "\n",
    "newlist=abc+xyz\n",
    "newlist.sort()\n",
    "print(newlist)"
   ]
  },
  {
   "cell_type": "code",
   "execution_count": 4,
   "metadata": {},
   "outputs": [
    {
     "name": "stdout",
     "output_type": "stream",
     "text": [
      "[45, 34, 56, 54, 23, 11]\n"
     ]
    }
   ],
   "source": [
    "#swap the value\n",
    "abc=[11,34,56,54,23,45]\n",
    "\n",
    "temp=abc[0]\n",
    "abc[0]=abc[-1]\n",
    "abc[-1]=temp\n",
    "\n",
    "print(abc)"
   ]
  },
  {
   "cell_type": "code",
   "execution_count": null,
   "metadata": {},
   "outputs": [],
   "source": []
  }
 ],
 "metadata": {
  "kernelspec": {
   "display_name": "Python 3",
   "language": "python",
   "name": "python3"
  },
  "language_info": {
   "codemirror_mode": {
    "name": "ipython",
    "version": 3
   },
   "file_extension": ".py",
   "mimetype": "text/x-python",
   "name": "python",
   "nbconvert_exporter": "python",
   "pygments_lexer": "ipython3",
   "version": "3.8.3"
  }
 },
 "nbformat": 4,
 "nbformat_minor": 4
}
